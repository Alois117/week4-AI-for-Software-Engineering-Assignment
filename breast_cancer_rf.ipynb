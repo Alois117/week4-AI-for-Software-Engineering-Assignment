# Step 1: Import Required Libraries
import pandas as pd
from sklearn.model_selection import train_test_split
from sklearn.ensemble import RandomForestClassifier
from sklearn.metrics import accuracy_score, f1_score, classification_report
from sklearn.preprocessing import LabelEncoder

# Step 2: Load Dataset
df = pd.read_csv("breast-cancer.csv")  
# Step 3: Clean and Preprocess
df = df.drop(['id'], axis=1).dropna()  # Drop unnecessary ID and nulls
df['priority'] = df['diagnosis'].map({'M': 'high', 'B': 'low'})  # Convert diagnosis to priority

# Encode priority labels (high = 1, low = 0)
label_encoder = LabelEncoder()
df['priority_encoded'] = label_encoder.fit_transform(df['priority'])

# Step 4: Define Features and Target
X = df.drop(['diagnosis', 'priority', 'priority_encoded'], axis=1)
y = df['priority_encoded']

# Step 5: Split Data into Train and Test Sets
X_train, X_test, y_train, y_test = train_test_split(X, y, test_size=0.2, random_state=42)

# Step 6: Train a Random Forest Classifier
model = RandomForestClassifier(n_estimators=100, random_state=42)
model.fit(X_train, y_train)

# Step 7: Make Predictions and Evaluate
y_pred = model.predict(X_test)
accuracy = accuracy_score(y_test, y_pred)
f1 = f1_score(y_test, y_pred, average='weighted')
report = classification_report(y_test, y_pred, target_names=label_encoder.classes_)

# Step 8: Print Evaluation Metrics
print("Accuracy:", accuracy)
print("F1 Score:", f1)
print("\nClassification Report:\n", report)
